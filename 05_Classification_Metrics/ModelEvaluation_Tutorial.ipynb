{
 "cells": [
  {
   "cell_type": "markdown",
   "source": "# Model Evaluation Tutorial",
   "metadata": {
    "colab_type": "text",
    "id": "57SCOcInULbj",
    "cell_id": "00000-40a3edca-9661-4bde-b139-619c3b27d4c5",
    "deepnote_cell_type": "markdown",
    "deepnote_cell_height": 134
   }
  },
  {
   "cell_type": "markdown",
   "source": "## Topics\n*  Motivation for model evaluation\n*  Model training procedure\n*  Model evaluation metrics:\n *  Accuracy\n *  Confusion matrix\n *  Precision, Recall, F1\n *  Receiver Operating Characteristic (ROC) Curves\n *  Area Under the Curve (AUC)",
   "metadata": {
    "colab_type": "text",
    "id": "3sZdLALtSf_i",
    "cell_id": "00001-57a928e6-7085-4c5b-bd69-a0d06a9244cc",
    "deepnote_cell_type": "markdown",
    "deepnote_cell_height": 300.1875
   }
  },
  {
   "cell_type": "markdown",
   "source": "## Why are we already talking about model evaluation?\n\n *   We need a way to choose between different model types, tuning parameters, and features\n *   Model evaluation enables us to estimate how well a model will generalize to out-of-sample data\n *   A model evaluation metric (or many!) required to quantify the model performance\n",
   "metadata": {
    "colab_type": "text",
    "id": "oBz9FrOZTAv2",
    "cell_id": "00002-9941e992-515d-47f2-86bc-920d39f9b3bd",
    "deepnote_cell_type": "markdown",
    "deepnote_cell_height": 280.390625
   }
  },
  {
   "cell_type": "markdown",
   "source": "## Model training procedure:\n1. Split the dataset into a **training** set and **testing** set.\n> Put the testing data set aside and **do not use it for any part of model training**.\n2. Further split your **training** set into a **training** and **validation** set.\n3. Train the model on only the **training** data set.\n4. Evaluate model performance on the **validation** set.\n5. Repeat steps 2+ as necessary.\n6. Only once the model has been finalized, should you evaluate on the left-out **testing** set.",
   "metadata": {
    "colab_type": "text",
    "id": "fwJVWtTVTWbz",
    "cell_id": "00003-beccce92-f061-4b74-9ff1-e0b4339a9a32",
    "deepnote_cell_type": "markdown",
    "deepnote_cell_height": 363.984375
   }
  },
  {
   "cell_type": "markdown",
   "source": "## Training Model",
   "metadata": {
    "colab_type": "text",
    "id": "QoU7RS38TWmr",
    "cell_id": "00004-2e1c5617-5ea7-4e04-918d-89a21ba76759",
    "deepnote_cell_type": "markdown",
    "deepnote_cell_height": 70
   }
  },
  {
   "cell_type": "markdown",
   "source": "In this notebook we will work with the [PIMA diabetes dataset](https://www.kaggle.com/uciml/pima-indians-diabetes-database/version/1). The goal is to predict whether or not a given female patient will contract diabetes based on certain diagnostic measurements that were recorded.\n>This is a ***binary*** classification problem. Remember, an outcome value of 0 indicates that the patient does not have diabetes, while an outcome of 1 indicates that the patient does have diabetes. ",
   "metadata": {
    "id": "ZI37q_ITj7y-",
    "colab_type": "text",
    "cell_id": "00005-175d04e1-c621-49e2-8e4c-7e10bb7c4551",
    "deepnote_cell_type": "markdown",
    "deepnote_cell_height": 237.1875
   }
  },
  {
   "cell_type": "markdown",
   "source": "### Load Dataset",
   "metadata": {
    "id": "RDBcOlS5kFN0",
    "colab_type": "text",
    "cell_id": "00006-4a0e7a07-40de-4d47-bf7d-74dfc3650089",
    "deepnote_cell_type": "markdown",
    "deepnote_cell_height": 62
   }
  },
  {
   "cell_type": "code",
   "metadata": {
    "colab_type": "code",
    "id": "ym-sI1JMfPT3",
    "colab": {},
    "cell_id": "00007-3eb827ee-24d7-4e54-b0bd-a5c94f737db6",
    "deepnote_to_be_reexecuted": false,
    "source_hash": "8ca6a091",
    "execution_start": 1657729118345,
    "execution_millis": 1770,
    "deepnote_cell_type": "code",
    "deepnote_cell_height": 117
   },
   "source": "import pandas as pd\nimport numpy as np\nimport matplotlib.pyplot as plt",
   "outputs": [],
   "execution_count": null
  },
  {
   "cell_type": "code",
   "metadata": {
    "colab_type": "code",
    "id": "bX7xCiaESvv2",
    "colab": {},
    "cell_id": "00008-de981c87-3166-49ff-ae46-1cf49f215b67",
    "deepnote_to_be_reexecuted": false,
    "source_hash": "dbed8590",
    "execution_start": 1657729120127,
    "execution_millis": 182,
    "deepnote_cell_type": "code",
    "deepnote_cell_height": 665,
    "deepnote_output_heights": [
     177
    ]
   },
   "source": "# Loading dataset\nurl = \"https://raw.githubusercontent.com/BeaverWorksMedlytics2020/Data_Public/master/NotebookExampleData/Week1/diabetes.csv\"\nnames = ['preg', 'plas', 'pres', 'skin', 'test', 'mass', 'pedi', 'age', 'class']\n\ndata = pd.read_csv(url, names=names)\n\n# Dropping NaN rows\ninvalid = ['plas', 'pres', 'skin', 'test', 'mass']\n\n# Replace 0's with NaN's in the \"invalid\" columns\nfor i in invalid:\n    data[i].replace(to_replace=0, value=np.nan, inplace=True)\n\n# Drop rows with NaN's, and drop the resultant indexing column\ndata = data.dropna(axis=0).reset_index(drop=True)\ndata.head()",
   "outputs": [
    {
     "output_type": "execute_result",
     "execution_count": 2,
     "data": {
      "application/vnd.deepnote.dataframe.v3+json": {
       "column_count": 9,
       "row_count": 5,
       "columns": [
        {
         "name": "preg",
         "dtype": "int64",
         "stats": {
          "unique_count": 4,
          "nan_count": 0,
          "min": "0",
          "max": "3",
          "histogram": [
           {
            "bin_start": 0,
            "bin_end": 0.3,
            "count": 1
           },
           {
            "bin_start": 0.3,
            "bin_end": 0.6,
            "count": 0
           },
           {
            "bin_start": 0.6,
            "bin_end": 0.8999999999999999,
            "count": 0
           },
           {
            "bin_start": 0.8999999999999999,
            "bin_end": 1.2,
            "count": 2
           },
           {
            "bin_start": 1.2,
            "bin_end": 1.5,
            "count": 0
           },
           {
            "bin_start": 1.5,
            "bin_end": 1.7999999999999998,
            "count": 0
           },
           {
            "bin_start": 1.7999999999999998,
            "bin_end": 2.1,
            "count": 1
           },
           {
            "bin_start": 2.1,
            "bin_end": 2.4,
            "count": 0
           },
           {
            "bin_start": 2.4,
            "bin_end": 2.6999999999999997,
            "count": 0
           },
           {
            "bin_start": 2.6999999999999997,
            "bin_end": 3,
            "count": 1
           }
          ]
         }
        },
        {
         "name": "plas",
         "dtype": "float64",
         "stats": {
          "unique_count": 5,
          "nan_count": 0,
          "min": "78.0",
          "max": "197.0",
          "histogram": [
           {
            "bin_start": 78,
            "bin_end": 89.9,
            "count": 2
           },
           {
            "bin_start": 89.9,
            "bin_end": 101.8,
            "count": 0
           },
           {
            "bin_start": 101.8,
            "bin_end": 113.7,
            "count": 0
           },
           {
            "bin_start": 113.7,
            "bin_end": 125.6,
            "count": 0
           },
           {
            "bin_start": 125.6,
            "bin_end": 137.5,
            "count": 1
           },
           {
            "bin_start": 137.5,
            "bin_end": 149.4,
            "count": 0
           },
           {
            "bin_start": 149.4,
            "bin_end": 161.3,
            "count": 0
           },
           {
            "bin_start": 161.3,
            "bin_end": 173.2,
            "count": 0
           },
           {
            "bin_start": 173.2,
            "bin_end": 185.10000000000002,
            "count": 0
           },
           {
            "bin_start": 185.10000000000002,
            "bin_end": 197,
            "count": 2
           }
          ]
         }
        },
        {
         "name": "pres",
         "dtype": "float64",
         "stats": {
          "unique_count": 5,
          "nan_count": 0,
          "min": "40.0",
          "max": "70.0",
          "histogram": [
           {
            "bin_start": 40,
            "bin_end": 43,
            "count": 1
           },
           {
            "bin_start": 43,
            "bin_end": 46,
            "count": 0
           },
           {
            "bin_start": 46,
            "bin_end": 49,
            "count": 0
           },
           {
            "bin_start": 49,
            "bin_end": 52,
            "count": 1
           },
           {
            "bin_start": 52,
            "bin_end": 55,
            "count": 0
           },
           {
            "bin_start": 55,
            "bin_end": 58,
            "count": 0
           },
           {
            "bin_start": 58,
            "bin_end": 61,
            "count": 1
           },
           {
            "bin_start": 61,
            "bin_end": 64,
            "count": 0
           },
           {
            "bin_start": 64,
            "bin_end": 67,
            "count": 1
           },
           {
            "bin_start": 67,
            "bin_end": 70,
            "count": 1
           }
          ]
         }
        },
        {
         "name": "skin",
         "dtype": "float64",
         "stats": {
          "unique_count": 4,
          "nan_count": 0,
          "min": "23.0",
          "max": "45.0",
          "histogram": [
           {
            "bin_start": 23,
            "bin_end": 25.2,
            "count": 2
           },
           {
            "bin_start": 25.2,
            "bin_end": 27.4,
            "count": 0
           },
           {
            "bin_start": 27.4,
            "bin_end": 29.6,
            "count": 0
           },
           {
            "bin_start": 29.6,
            "bin_end": 31.8,
            "count": 0
           },
           {
            "bin_start": 31.8,
            "bin_end": 34,
            "count": 1
           },
           {
            "bin_start": 34,
            "bin_end": 36.2,
            "count": 1
           },
           {
            "bin_start": 36.2,
            "bin_end": 38.400000000000006,
            "count": 0
           },
           {
            "bin_start": 38.400000000000006,
            "bin_end": 40.6,
            "count": 0
           },
           {
            "bin_start": 40.6,
            "bin_end": 42.8,
            "count": 0
           },
           {
            "bin_start": 42.8,
            "bin_end": 45,
            "count": 1
           }
          ]
         }
        },
        {
         "name": "test",
         "dtype": "float64",
         "stats": {
          "unique_count": 5,
          "nan_count": 0,
          "min": "88.0",
          "max": "846.0",
          "histogram": [
           {
            "bin_start": 88,
            "bin_end": 163.8,
            "count": 2
           },
           {
            "bin_start": 163.8,
            "bin_end": 239.6,
            "count": 1
           },
           {
            "bin_start": 239.6,
            "bin_end": 315.4,
            "count": 0
           },
           {
            "bin_start": 315.4,
            "bin_end": 391.2,
            "count": 0
           },
           {
            "bin_start": 391.2,
            "bin_end": 467,
            "count": 0
           },
           {
            "bin_start": 467,
            "bin_end": 542.8,
            "count": 0
           },
           {
            "bin_start": 542.8,
            "bin_end": 618.6,
            "count": 1
           },
           {
            "bin_start": 618.6,
            "bin_end": 694.4,
            "count": 0
           },
           {
            "bin_start": 694.4,
            "bin_end": 770.1999999999999,
            "count": 0
           },
           {
            "bin_start": 770.1999999999999,
            "bin_end": 846,
            "count": 1
           }
          ]
         }
        },
        {
         "name": "mass",
         "dtype": "float64",
         "stats": {
          "unique_count": 5,
          "nan_count": 0,
          "min": "28.1",
          "max": "43.1",
          "histogram": [
           {
            "bin_start": 28.1,
            "bin_end": 29.6,
            "count": 1
           },
           {
            "bin_start": 29.6,
            "bin_end": 31.1,
            "count": 3
           },
           {
            "bin_start": 31.1,
            "bin_end": 32.6,
            "count": 0
           },
           {
            "bin_start": 32.6,
            "bin_end": 34.1,
            "count": 0
           },
           {
            "bin_start": 34.1,
            "bin_end": 35.6,
            "count": 0
           },
           {
            "bin_start": 35.6,
            "bin_end": 37.1,
            "count": 0
           },
           {
            "bin_start": 37.1,
            "bin_end": 38.6,
            "count": 0
           },
           {
            "bin_start": 38.6,
            "bin_end": 40.1,
            "count": 0
           },
           {
            "bin_start": 40.1,
            "bin_end": 41.6,
            "count": 0
           },
           {
            "bin_start": 41.6,
            "bin_end": 43.1,
            "count": 1
           }
          ]
         }
        },
        {
         "name": "pedi",
         "dtype": "float64",
         "stats": {
          "unique_count": 5,
          "nan_count": 0,
          "min": "0.158",
          "max": "2.288",
          "histogram": [
           {
            "bin_start": 0.158,
            "bin_end": 0.371,
            "count": 3
           },
           {
            "bin_start": 0.371,
            "bin_end": 0.584,
            "count": 1
           },
           {
            "bin_start": 0.584,
            "bin_end": 0.797,
            "count": 0
           },
           {
            "bin_start": 0.797,
            "bin_end": 1.01,
            "count": 0
           },
           {
            "bin_start": 1.01,
            "bin_end": 1.2229999999999999,
            "count": 0
           },
           {
            "bin_start": 1.2229999999999999,
            "bin_end": 1.436,
            "count": 0
           },
           {
            "bin_start": 1.436,
            "bin_end": 1.6489999999999998,
            "count": 0
           },
           {
            "bin_start": 1.6489999999999998,
            "bin_end": 1.8619999999999999,
            "count": 0
           },
           {
            "bin_start": 1.8619999999999999,
            "bin_end": 2.075,
            "count": 0
           },
           {
            "bin_start": 2.075,
            "bin_end": 2.288,
            "count": 1
           }
          ]
         }
        },
        {
         "name": "age",
         "dtype": "int64",
         "stats": {
          "unique_count": 5,
          "nan_count": 0,
          "min": "21",
          "max": "59",
          "histogram": [
           {
            "bin_start": 21,
            "bin_end": 24.8,
            "count": 1
           },
           {
            "bin_start": 24.8,
            "bin_end": 28.6,
            "count": 1
           },
           {
            "bin_start": 28.6,
            "bin_end": 32.4,
            "count": 0
           },
           {
            "bin_start": 32.4,
            "bin_end": 36.2,
            "count": 1
           },
           {
            "bin_start": 36.2,
            "bin_end": 40,
            "count": 0
           },
           {
            "bin_start": 40,
            "bin_end": 43.8,
            "count": 0
           },
           {
            "bin_start": 43.8,
            "bin_end": 47.599999999999994,
            "count": 0
           },
           {
            "bin_start": 47.599999999999994,
            "bin_end": 51.4,
            "count": 0
           },
           {
            "bin_start": 51.4,
            "bin_end": 55.199999999999996,
            "count": 1
           },
           {
            "bin_start": 55.199999999999996,
            "bin_end": 59,
            "count": 1
           }
          ]
         }
        },
        {
         "name": "class",
         "dtype": "int64",
         "stats": {
          "unique_count": 2,
          "nan_count": 0,
          "min": "0",
          "max": "1",
          "histogram": [
           {
            "bin_start": 0,
            "bin_end": 0.1,
            "count": 1
           },
           {
            "bin_start": 0.1,
            "bin_end": 0.2,
            "count": 0
           },
           {
            "bin_start": 0.2,
            "bin_end": 0.30000000000000004,
            "count": 0
           },
           {
            "bin_start": 0.30000000000000004,
            "bin_end": 0.4,
            "count": 0
           },
           {
            "bin_start": 0.4,
            "bin_end": 0.5,
            "count": 0
           },
           {
            "bin_start": 0.5,
            "bin_end": 0.6000000000000001,
            "count": 0
           },
           {
            "bin_start": 0.6000000000000001,
            "bin_end": 0.7000000000000001,
            "count": 0
           },
           {
            "bin_start": 0.7000000000000001,
            "bin_end": 0.8,
            "count": 0
           },
           {
            "bin_start": 0.8,
            "bin_end": 0.9,
            "count": 0
           },
           {
            "bin_start": 0.9,
            "bin_end": 1,
            "count": 4
           }
          ]
         }
        },
        {
         "name": "_deepnote_index_column",
         "dtype": "int64"
        }
       ],
       "rows": [
        {
         "preg": 1,
         "plas": 89,
         "pres": 66,
         "skin": 23,
         "test": 94,
         "mass": 28.1,
         "pedi": 0.167,
         "age": 21,
         "class": 0,
         "_deepnote_index_column": 0
        },
        {
         "preg": 0,
         "plas": 137,
         "pres": 40,
         "skin": 35,
         "test": 168,
         "mass": 43.1,
         "pedi": 2.288,
         "age": 33,
         "class": 1,
         "_deepnote_index_column": 1
        },
        {
         "preg": 3,
         "plas": 78,
         "pres": 50,
         "skin": 32,
         "test": 88,
         "mass": 31,
         "pedi": 0.248,
         "age": 26,
         "class": 1,
         "_deepnote_index_column": 2
        },
        {
         "preg": 2,
         "plas": 197,
         "pres": 70,
         "skin": 45,
         "test": 543,
         "mass": 30.5,
         "pedi": 0.158,
         "age": 53,
         "class": 1,
         "_deepnote_index_column": 3
        },
        {
         "preg": 1,
         "plas": 189,
         "pres": 60,
         "skin": 23,
         "test": 846,
         "mass": 30.1,
         "pedi": 0.398,
         "age": 59,
         "class": 1,
         "_deepnote_index_column": 4
        }
       ]
      },
      "text/plain": "   preg   plas  pres  skin   test  mass   pedi  age  class\n0     1   89.0  66.0  23.0   94.0  28.1  0.167   21      0\n1     0  137.0  40.0  35.0  168.0  43.1  2.288   33      1\n2     3   78.0  50.0  32.0   88.0  31.0  0.248   26      1\n3     2  197.0  70.0  45.0  543.0  30.5  0.158   53      1\n4     1  189.0  60.0  23.0  846.0  30.1  0.398   59      1",
      "text/html": "<div>\n<style scoped>\n    .dataframe tbody tr th:only-of-type {\n        vertical-align: middle;\n    }\n\n    .dataframe tbody tr th {\n        vertical-align: top;\n    }\n\n    .dataframe thead th {\n        text-align: right;\n    }\n</style>\n<table border=\"1\" class=\"dataframe\">\n  <thead>\n    <tr style=\"text-align: right;\">\n      <th></th>\n      <th>preg</th>\n      <th>plas</th>\n      <th>pres</th>\n      <th>skin</th>\n      <th>test</th>\n      <th>mass</th>\n      <th>pedi</th>\n      <th>age</th>\n      <th>class</th>\n    </tr>\n  </thead>\n  <tbody>\n    <tr>\n      <th>0</th>\n      <td>1</td>\n      <td>89.0</td>\n      <td>66.0</td>\n      <td>23.0</td>\n      <td>94.0</td>\n      <td>28.1</td>\n      <td>0.167</td>\n      <td>21</td>\n      <td>0</td>\n    </tr>\n    <tr>\n      <th>1</th>\n      <td>0</td>\n      <td>137.0</td>\n      <td>40.0</td>\n      <td>35.0</td>\n      <td>168.0</td>\n      <td>43.1</td>\n      <td>2.288</td>\n      <td>33</td>\n      <td>1</td>\n    </tr>\n    <tr>\n      <th>2</th>\n      <td>3</td>\n      <td>78.0</td>\n      <td>50.0</td>\n      <td>32.0</td>\n      <td>88.0</td>\n      <td>31.0</td>\n      <td>0.248</td>\n      <td>26</td>\n      <td>1</td>\n    </tr>\n    <tr>\n      <th>3</th>\n      <td>2</td>\n      <td>197.0</td>\n      <td>70.0</td>\n      <td>45.0</td>\n      <td>543.0</td>\n      <td>30.5</td>\n      <td>0.158</td>\n      <td>53</td>\n      <td>1</td>\n    </tr>\n    <tr>\n      <th>4</th>\n      <td>1</td>\n      <td>189.0</td>\n      <td>60.0</td>\n      <td>23.0</td>\n      <td>846.0</td>\n      <td>30.1</td>\n      <td>0.398</td>\n      <td>59</td>\n      <td>1</td>\n    </tr>\n  </tbody>\n</table>\n</div>"
     },
     "metadata": {}
    }
   ],
   "execution_count": null
  },
  {
   "cell_type": "markdown",
   "source": "### Split data into training, validation, and test sets",
   "metadata": {
    "colab_type": "text",
    "id": "UeWjHRSd6HhQ",
    "cell_id": "00009-75aeb1c7-dfbb-4ed8-aa91-9fcb31b58b63",
    "deepnote_cell_type": "markdown",
    "deepnote_cell_height": 94
   }
  },
  {
   "cell_type": "code",
   "metadata": {
    "colab_type": "code",
    "id": "zJPvQo9kdgKb",
    "colab": {},
    "cell_id": "00010-deeb2a47-759e-41be-91ee-0d69bcf1af30",
    "deepnote_to_be_reexecuted": false,
    "source_hash": "4b6cde98",
    "execution_start": 1657729120312,
    "execution_millis": 5,
    "deepnote_cell_type": "code",
    "deepnote_cell_height": 117
   },
   "source": "# Define your features (X) and labels (y)\nX = ['preg', 'plas', 'pres', 'skin', 'test', 'mass', 'pedi', 'age']\ny = 'class'",
   "outputs": [],
   "execution_count": null
  },
  {
   "cell_type": "code",
   "metadata": {
    "colab_type": "code",
    "id": "2jJdDuQystTL",
    "colab": {},
    "cell_id": "00011-9323e7cd-1c87-44ec-bdf1-76331824f318",
    "deepnote_to_be_reexecuted": false,
    "source_hash": "88cca5e5",
    "execution_start": 1657729120360,
    "execution_millis": 1533,
    "deepnote_cell_type": "code",
    "deepnote_cell_height": 189
   },
   "source": "from sklearn.model_selection import train_test_split\n\n# Split X and y into training and testing sets\nX_train, X_test, y_train, y_test = train_test_split(data[X], data[y], test_size=0.2, random_state=0)\n\n# Further split X and y of training into training and validation sets\nX_train, X_val, y_train, y_val = train_test_split(X_train, y_train, test_size=0.2, random_state=0)",
   "outputs": [],
   "execution_count": null
  },
  {
   "cell_type": "markdown",
   "source": "### Train a model",
   "metadata": {
    "colab_type": "text",
    "id": "kYzKhOU36Ms9",
    "cell_id": "00012-5ad681c6-ccbe-4378-b745-a6a4f65d0b52",
    "deepnote_cell_type": "markdown",
    "deepnote_cell_height": 62
   }
  },
  {
   "cell_type": "markdown",
   "source": "Here we make use of a Decision Tree model. You don't have to worry about understanding the details for now; we'll be covering decision trees and other models more in depth later this week.",
   "metadata": {
    "id": "doZ1v_0rkz1e",
    "colab_type": "text",
    "cell_id": "00013-a9843b3a-3bee-4480-84df-ef11049a33e4",
    "deepnote_cell_type": "markdown",
    "deepnote_cell_height": 97.1875
   }
  },
  {
   "cell_type": "code",
   "metadata": {
    "colab_type": "code",
    "id": "8-x6Uhcas3kn",
    "colab": {},
    "cell_id": "00014-bde6cdec-bc84-4c18-9d7e-8dedf60cb1cb",
    "deepnote_to_be_reexecuted": false,
    "source_hash": "1d80ad1d",
    "execution_start": 1657729121893,
    "execution_millis": 165,
    "deepnote_cell_type": "code",
    "deepnote_cell_height": 247.375,
    "deepnote_output_heights": [
     60.375
    ]
   },
   "source": "# Train a decision tree model on the training set only\nfrom sklearn import tree\nfrom sklearn.tree import DecisionTreeClassifier\n\nmodel = DecisionTreeClassifier(max_depth=4,random_state=0)\nmodel.fit(X_train, y_train)",
   "outputs": [
    {
     "output_type": "execute_result",
     "execution_count": 5,
     "data": {
      "text/plain": "DecisionTreeClassifier(max_depth=4, random_state=0)",
      "text/html": "<style>#sk-container-id-1 {color: black;background-color: white;}#sk-container-id-1 pre{padding: 0;}#sk-container-id-1 div.sk-toggleable {background-color: white;}#sk-container-id-1 label.sk-toggleable__label {cursor: pointer;display: block;width: 100%;margin-bottom: 0;padding: 0.3em;box-sizing: border-box;text-align: center;}#sk-container-id-1 label.sk-toggleable__label-arrow:before {content: \"▸\";float: left;margin-right: 0.25em;color: #696969;}#sk-container-id-1 label.sk-toggleable__label-arrow:hover:before {color: black;}#sk-container-id-1 div.sk-estimator:hover label.sk-toggleable__label-arrow:before {color: black;}#sk-container-id-1 div.sk-toggleable__content {max-height: 0;max-width: 0;overflow: hidden;text-align: left;background-color: #f0f8ff;}#sk-container-id-1 div.sk-toggleable__content pre {margin: 0.2em;color: black;border-radius: 0.25em;background-color: #f0f8ff;}#sk-container-id-1 input.sk-toggleable__control:checked~div.sk-toggleable__content {max-height: 200px;max-width: 100%;overflow: auto;}#sk-container-id-1 input.sk-toggleable__control:checked~label.sk-toggleable__label-arrow:before {content: \"▾\";}#sk-container-id-1 div.sk-estimator input.sk-toggleable__control:checked~label.sk-toggleable__label {background-color: #d4ebff;}#sk-container-id-1 div.sk-label input.sk-toggleable__control:checked~label.sk-toggleable__label {background-color: #d4ebff;}#sk-container-id-1 input.sk-hidden--visually {border: 0;clip: rect(1px 1px 1px 1px);clip: rect(1px, 1px, 1px, 1px);height: 1px;margin: -1px;overflow: hidden;padding: 0;position: absolute;width: 1px;}#sk-container-id-1 div.sk-estimator {font-family: monospace;background-color: #f0f8ff;border: 1px dotted black;border-radius: 0.25em;box-sizing: border-box;margin-bottom: 0.5em;}#sk-container-id-1 div.sk-estimator:hover {background-color: #d4ebff;}#sk-container-id-1 div.sk-parallel-item::after {content: \"\";width: 100%;border-bottom: 1px solid gray;flex-grow: 1;}#sk-container-id-1 div.sk-label:hover label.sk-toggleable__label {background-color: #d4ebff;}#sk-container-id-1 div.sk-serial::before {content: \"\";position: absolute;border-left: 1px solid gray;box-sizing: border-box;top: 0;bottom: 0;left: 50%;z-index: 0;}#sk-container-id-1 div.sk-serial {display: flex;flex-direction: column;align-items: center;background-color: white;padding-right: 0.2em;padding-left: 0.2em;position: relative;}#sk-container-id-1 div.sk-item {position: relative;z-index: 1;}#sk-container-id-1 div.sk-parallel {display: flex;align-items: stretch;justify-content: center;background-color: white;position: relative;}#sk-container-id-1 div.sk-item::before, #sk-container-id-1 div.sk-parallel-item::before {content: \"\";position: absolute;border-left: 1px solid gray;box-sizing: border-box;top: 0;bottom: 0;left: 50%;z-index: -1;}#sk-container-id-1 div.sk-parallel-item {display: flex;flex-direction: column;z-index: 1;position: relative;background-color: white;}#sk-container-id-1 div.sk-parallel-item:first-child::after {align-self: flex-end;width: 50%;}#sk-container-id-1 div.sk-parallel-item:last-child::after {align-self: flex-start;width: 50%;}#sk-container-id-1 div.sk-parallel-item:only-child::after {width: 0;}#sk-container-id-1 div.sk-dashed-wrapped {border: 1px dashed gray;margin: 0 0.4em 0.5em 0.4em;box-sizing: border-box;padding-bottom: 0.4em;background-color: white;}#sk-container-id-1 div.sk-label label {font-family: monospace;font-weight: bold;display: inline-block;line-height: 1.2em;}#sk-container-id-1 div.sk-label-container {text-align: center;}#sk-container-id-1 div.sk-container {/* jupyter's `normalize.less` sets `[hidden] { display: none; }` but bootstrap.min.css set `[hidden] { display: none !important; }` so we also need the `!important` here to be able to override the default hidden behavior on the sphinx rendered scikit-learn.org. See: https://github.com/scikit-learn/scikit-learn/issues/21755 */display: inline-block !important;position: relative;}#sk-container-id-1 div.sk-text-repr-fallback {display: none;}</style><div id=\"sk-container-id-1\" class=\"sk-top-container\"><div class=\"sk-text-repr-fallback\"><pre>DecisionTreeClassifier(max_depth=4, random_state=0)</pre><b>In a Jupyter environment, please rerun this cell to show the HTML representation or trust the notebook. <br />On GitHub, the HTML representation is unable to render, please try loading this page with nbviewer.org.</b></div><div class=\"sk-container\" hidden><div class=\"sk-item\"><div class=\"sk-estimator sk-toggleable\"><input class=\"sk-toggleable__control sk-hidden--visually\" id=\"sk-estimator-id-1\" type=\"checkbox\" checked><label for=\"sk-estimator-id-1\" class=\"sk-toggleable__label sk-toggleable__label-arrow\">DecisionTreeClassifier</label><div class=\"sk-toggleable__content\"><pre>DecisionTreeClassifier(max_depth=4, random_state=0)</pre></div></div></div></div></div>"
     },
     "metadata": {}
    }
   ],
   "execution_count": null
  },
  {
   "cell_type": "markdown",
   "source": "## Model Evalutaion on Validation Data",
   "metadata": {
    "colab_type": "text",
    "id": "CumutApe6SdZ",
    "cell_id": "00015-e0337758-3f05-42c5-94b1-b01134b7c96e",
    "deepnote_cell_type": "markdown",
    "deepnote_cell_height": 110
   }
  },
  {
   "cell_type": "markdown",
   "source": "For now, we will use the model to predict the binary classes of our validation data. Later we'll look at the case where our model outputs a probability over class labels.",
   "metadata": {
    "id": "HftPrleIlR3p",
    "colab_type": "text",
    "cell_id": "00016-7d71ebe0-4ebc-4742-8b31-93b9fbfbc02c",
    "deepnote_cell_type": "markdown",
    "deepnote_cell_height": 97.1875
   }
  },
  {
   "cell_type": "code",
   "metadata": {
    "colab_type": "code",
    "id": "GtJigb1SuTRF",
    "colab": {},
    "cell_id": "00017-e0ac3b75-75d5-4446-a19b-c2d61495a464",
    "deepnote_to_be_reexecuted": false,
    "source_hash": "df903ccd",
    "execution_start": 1657729122064,
    "execution_millis": 5,
    "deepnote_cell_type": "code",
    "deepnote_cell_height": 117
   },
   "source": "# Make class predictions for the training validation set\ny_train_predict = model.predict(X_train)\ny_val_predict = model.predict(X_val)",
   "outputs": [],
   "execution_count": null
  },
  {
   "cell_type": "markdown",
   "source": "### Accuracy",
   "metadata": {
    "id": "FVGSjhvXlgBw",
    "colab_type": "text",
    "cell_id": "00018-865ec589-5165-43e8-868c-4e60575cf231",
    "deepnote_cell_type": "markdown",
    "deepnote_cell_height": 62
   }
  },
  {
   "cell_type": "code",
   "metadata": {
    "colab_type": "code",
    "id": "WuOp6VQ4wq9C",
    "colab": {},
    "cell_id": "00019-88a770e1-d67b-4ed2-8136-1f9a09805344",
    "deepnote_to_be_reexecuted": false,
    "source_hash": "727124ab",
    "execution_start": 1657729122081,
    "execution_millis": 8,
    "deepnote_cell_type": "code",
    "deepnote_cell_height": 221.390625
   },
   "source": "# Calculate model training accuracy\nfrom sklearn import metrics\nprint('Training Accuracy:   {:01.3f}'.format(metrics.accuracy_score(y_train, y_train_predict)))\n\n# Calculate model validation accuracy\nprint('Validation Accuracy: {:01.3f}'.format(metrics.accuracy_score(y_val, y_val_predict)))",
   "outputs": [
    {
     "name": "stdout",
     "text": "Training Accuracy:   0.876\nValidation Accuracy: 0.778\n",
     "output_type": "stream"
    }
   ],
   "execution_count": null
  },
  {
   "cell_type": "markdown",
   "source": "Notice that our **training accuracy** is higher than our **validation accuracy**.  This is fairly typical, as  machine learning algorithms have a tendency to overfit the training data.  When choosing a model, it's a good idea to tune it such that you are not overfitting too much.\n\n![](https://raw.githubusercontent.com/BeaverWorksMedlytics2020/Data_Public/master/Images/Week1/fittings.jpg)",
   "metadata": {
    "colab_type": "text",
    "id": "_NEuINphjha5",
    "cell_id": "00020-65516082-2592-46e0-841f-4284d889e084",
    "deepnote_cell_type": "markdown",
    "deepnote_cell_height": 387.796875
   }
  },
  {
   "cell_type": "markdown",
   "source": "Okay, so our decision tree got ~78% validation accuracy.  But how do we know if that's a \"good\" accuracy?  Let's look at the simple case where we have a model that always predicts the most common class.  How well would that do?",
   "metadata": {
    "colab_type": "text",
    "id": "xLEkVGUX1XJY",
    "cell_id": "00021-265db9ba-0731-45d0-9eb3-68fe5649ded2",
    "deepnote_cell_type": "markdown",
    "deepnote_cell_height": 119.59375
   }
  },
  {
   "cell_type": "code",
   "metadata": {
    "colab_type": "code",
    "id": "I3dLk7Gozt6j",
    "colab": {},
    "cell_id": "00022-cba8d385-ba1a-48e4-b820-c06d4103d9c8",
    "deepnote_to_be_reexecuted": false,
    "source_hash": "be22f90",
    "execution_start": 1657729122115,
    "execution_millis": 41,
    "deepnote_cell_type": "code",
    "deepnote_cell_height": 174.578125,
    "deepnote_output_heights": [
     59.578125
    ]
   },
   "source": "# Examine the class distribution of the validation set (using a Pandas Series method)\ny_val.value_counts(normalize=True)",
   "outputs": [
    {
     "output_type": "execute_result",
     "execution_count": 8,
     "data": {
      "text/plain": "0    0.634921\n1    0.365079\nName: class, dtype: float64"
     },
     "metadata": {}
    }
   ],
   "execution_count": null
  },
  {
   "cell_type": "markdown",
   "source": "This means that a trivial model that always predicts 0 would be right ~63% of the time. So our decision tree seems to be doing something. \n\nHowever what if your training and validation dataset happened to have a bigger class imbalance? Say an imbalance of 90% negative and only 10% positive? If your model constantly predicts 0 you'd technically have a *really* good accuracy of 90%, but basing your metric on this metric alone can be misleading.",
   "metadata": {
    "id": "oIVg21JAmCr_",
    "colab_type": "text",
    "cell_id": "00023-fb465579-4dc1-4b55-8a66-32f09e6c9941",
    "deepnote_cell_type": "markdown",
    "deepnote_cell_height": 223.1875
   }
  },
  {
   "cell_type": "markdown",
   "source": "### Confusion Matrix",
   "metadata": {
    "id": "R6tVEgqHmEk-",
    "colab_type": "text",
    "cell_id": "00024-45b424a5-7c79-4ebc-8e1e-bf6b40ff730c",
    "deepnote_cell_type": "markdown",
    "deepnote_cell_height": 62
   }
  },
  {
   "cell_type": "markdown",
   "source": "\n\nNow let's investigate the errors our model is making by looking at the **confusion matrix.** This is a simple way to tabulate the kinds of results our model is producing. It will follow the format shown below:\n\n![](https://raw.githubusercontent.com/BeaverWorksMedlytics2020/Data_Public/master/Images/Week1/confusion%20matrix%202.png)\n\nIn this binary example shown above, are two possible predicted classes: negative (0) and positive (1). If we were predicting the presence of a disease, for example, positive would mean they have the disease, and negative would mean they don't have the disease.\n\n- true positives (TP): Your model predicted positive, and the true label *is* positive\n- true negatives (TN): Your model predicted negative, and the true label *is* negative\n- false positives (FP): Your model predicted positive, but the true label is actually negative (Also known as a \"Type I error\")\n- false negatives (FN): Your model predicted negative, but true label is actually positive (Also known as a \"Type II error\")\n",
   "metadata": {
    "colab_type": "text",
    "id": "ollw--0a0FuN",
    "cell_id": "00025-d74c0827-07f6-4c21-ac28-c097adc0c17c",
    "deepnote_cell_type": "markdown",
    "deepnote_cell_height": 844.765625
   }
  },
  {
   "cell_type": "code",
   "metadata": {
    "colab_type": "code",
    "id": "Qw3xcAK3z5t-",
    "colab": {},
    "cell_id": "00026-c9473dba-aef8-47f4-a0d5-64c29b868423",
    "deepnote_to_be_reexecuted": false,
    "source_hash": "80c7ca3d",
    "execution_start": 1657729122150,
    "execution_millis": 19,
    "owner_user_id": "80ce88c6-4bb1-4746-b929-022a2f79013e",
    "deepnote_cell_type": "code",
    "deepnote_cell_height": 391.859375
   },
   "source": "# Use sklearn to make the confusion matrix\nprint('Confusion Matrix:')\nlabels = [0,1]\ncm = metrics.confusion_matrix(y_val, y_val_predict)\nprint(cm)\n\n# Normalized confusion matrix\nprint('\\nNormalized Confusion Matrix:')\ncm_norm = cm.astype('float') / cm.sum(axis=1)[:, np.newaxis]\nprint(cm_norm)",
   "outputs": [
    {
     "name": "stdout",
     "text": "Confusion Matrix:\n[[32  8]\n [ 6 17]]\n\nNormalized Confusion Matrix:\n[[0.8        0.2       ]\n [0.26086957 0.73913043]]\n",
     "output_type": "stream"
    }
   ],
   "execution_count": null
  },
  {
   "cell_type": "code",
   "metadata": {
    "colab_type": "code",
    "id": "eVNTxWYB1obX",
    "colab": {},
    "cell_id": "00027-acd3f4f4-7f29-40bf-9987-d07b93822a4e",
    "deepnote_to_be_reexecuted": false,
    "source_hash": "2c9cc74d",
    "execution_start": 1657729122170,
    "execution_millis": 149,
    "deepnote_cell_type": "code",
    "deepnote_cell_height": 331,
    "deepnote_output_heights": [
     148
    ]
   },
   "source": "# Or you can use pandas—it's a little nicer to look at\npd.crosstab(y_val, y_val_predict, rownames=['True'], colnames=['Predicted'], margins=True)",
   "outputs": [
    {
     "output_type": "execute_result",
     "execution_count": 10,
     "data": {
      "application/vnd.deepnote.dataframe.v3+json": {
       "column_count": 3,
       "row_count": 3,
       "columns": [
        {
         "name": 0,
         "dtype": "int64",
         "stats": {
          "unique_count": 3,
          "nan_count": 0,
          "min": "6",
          "max": "38",
          "histogram": [
           {
            "bin_start": 6,
            "bin_end": 9.2,
            "count": 1
           },
           {
            "bin_start": 9.2,
            "bin_end": 12.4,
            "count": 0
           },
           {
            "bin_start": 12.4,
            "bin_end": 15.600000000000001,
            "count": 0
           },
           {
            "bin_start": 15.600000000000001,
            "bin_end": 18.8,
            "count": 0
           },
           {
            "bin_start": 18.8,
            "bin_end": 22,
            "count": 0
           },
           {
            "bin_start": 22,
            "bin_end": 25.200000000000003,
            "count": 0
           },
           {
            "bin_start": 25.200000000000003,
            "bin_end": 28.400000000000002,
            "count": 0
           },
           {
            "bin_start": 28.400000000000002,
            "bin_end": 31.6,
            "count": 0
           },
           {
            "bin_start": 31.6,
            "bin_end": 34.8,
            "count": 1
           },
           {
            "bin_start": 34.8,
            "bin_end": 38,
            "count": 1
           }
          ]
         }
        },
        {
         "name": 1,
         "dtype": "int64",
         "stats": {
          "unique_count": 3,
          "nan_count": 0,
          "min": "8",
          "max": "25",
          "histogram": [
           {
            "bin_start": 8,
            "bin_end": 9.7,
            "count": 1
           },
           {
            "bin_start": 9.7,
            "bin_end": 11.4,
            "count": 0
           },
           {
            "bin_start": 11.4,
            "bin_end": 13.1,
            "count": 0
           },
           {
            "bin_start": 13.1,
            "bin_end": 14.8,
            "count": 0
           },
           {
            "bin_start": 14.8,
            "bin_end": 16.5,
            "count": 0
           },
           {
            "bin_start": 16.5,
            "bin_end": 18.2,
            "count": 1
           },
           {
            "bin_start": 18.2,
            "bin_end": 19.9,
            "count": 0
           },
           {
            "bin_start": 19.9,
            "bin_end": 21.6,
            "count": 0
           },
           {
            "bin_start": 21.6,
            "bin_end": 23.299999999999997,
            "count": 0
           },
           {
            "bin_start": 23.299999999999997,
            "bin_end": 25,
            "count": 1
           }
          ]
         }
        },
        {
         "name": "All",
         "dtype": "int64",
         "stats": {
          "unique_count": 3,
          "nan_count": 0,
          "min": "23",
          "max": "63",
          "histogram": [
           {
            "bin_start": 23,
            "bin_end": 27,
            "count": 1
           },
           {
            "bin_start": 27,
            "bin_end": 31,
            "count": 0
           },
           {
            "bin_start": 31,
            "bin_end": 35,
            "count": 0
           },
           {
            "bin_start": 35,
            "bin_end": 39,
            "count": 0
           },
           {
            "bin_start": 39,
            "bin_end": 43,
            "count": 1
           },
           {
            "bin_start": 43,
            "bin_end": 47,
            "count": 0
           },
           {
            "bin_start": 47,
            "bin_end": 51,
            "count": 0
           },
           {
            "bin_start": 51,
            "bin_end": 55,
            "count": 0
           },
           {
            "bin_start": 55,
            "bin_end": 59,
            "count": 0
           },
           {
            "bin_start": 59,
            "bin_end": 63,
            "count": 1
           }
          ]
         }
        },
        {
         "name": "_deepnote_index_column",
         "dtype": "object"
        }
       ],
       "rows": [
        {
         "0": 32,
         "1": 8,
         "All": 40,
         "_deepnote_index_column": "0"
        },
        {
         "0": 6,
         "1": 17,
         "All": 23,
         "_deepnote_index_column": "1"
        },
        {
         "0": 38,
         "1": 25,
         "All": 63,
         "_deepnote_index_column": "All"
        }
       ]
      },
      "text/plain": "Predicted   0   1  All\nTrue                  \n0          32   8   40\n1           6  17   23\nAll        38  25   63",
      "text/html": "<div>\n<style scoped>\n    .dataframe tbody tr th:only-of-type {\n        vertical-align: middle;\n    }\n\n    .dataframe tbody tr th {\n        vertical-align: top;\n    }\n\n    .dataframe thead th {\n        text-align: right;\n    }\n</style>\n<table border=\"1\" class=\"dataframe\">\n  <thead>\n    <tr style=\"text-align: right;\">\n      <th>Predicted</th>\n      <th>0</th>\n      <th>1</th>\n      <th>All</th>\n    </tr>\n    <tr>\n      <th>True</th>\n      <th></th>\n      <th></th>\n      <th></th>\n    </tr>\n  </thead>\n  <tbody>\n    <tr>\n      <th>0</th>\n      <td>32</td>\n      <td>8</td>\n      <td>40</td>\n    </tr>\n    <tr>\n      <th>1</th>\n      <td>6</td>\n      <td>17</td>\n      <td>23</td>\n    </tr>\n    <tr>\n      <th>All</th>\n      <td>38</td>\n      <td>25</td>\n      <td>63</td>\n    </tr>\n  </tbody>\n</table>\n</div>"
     },
     "metadata": {}
    }
   ],
   "execution_count": null
  },
  {
   "cell_type": "markdown",
   "source": "We can also use a color heatmap to compare the frequency of each result type at a glance.",
   "metadata": {
    "id": "RaKtoM3H8fhx",
    "colab_type": "text",
    "cell_id": "00028-e5ef18f9-ee8c-46d5-a672-3e3e92541e94",
    "deepnote_cell_type": "markdown",
    "deepnote_cell_height": 74.796875
   }
  },
  {
   "cell_type": "code",
   "metadata": {
    "colab_type": "code",
    "id": "UXUOndg_1lGf",
    "colab": {},
    "cell_id": "00029-8dcc4bd7-aa1c-4837-855f-8941dede00a3",
    "deepnote_to_be_reexecuted": false,
    "source_hash": "37dafd72",
    "execution_start": 1657729122317,
    "execution_millis": 1270,
    "deepnote_cell_type": "code",
    "deepnote_cell_height": 1175.28125,
    "deepnote_output_heights": [
     null,
     343,
     343
    ]
   },
   "source": "# Visualize the confusion matrix\ndef plot_cmatrix(cm,labels,title='Confusion Matrix'):\n  fig = plt.figure()\n  ax = fig.add_subplot(111)\n  cax = ax.matshow(cm,cmap='Reds')\n  plt.title('\\n'+title+'\\n', fontsize=20)\n  fig.colorbar(cax)\n  ax.set_xticklabels([''] + labels, fontsize=16)\n  ax.set_yticklabels([''] + labels, fontsize=16)\n  plt.xlabel('Predicted', fontsize=16)\n  plt.ylabel('True', fontsize=16)\n  plt.show()\n  \nplot_cmatrix(cm,labels)\nplot_cmatrix(cm_norm,labels,title='Normalized Confusion Matrix')",
   "outputs": [
    {
     "name": "stderr",
     "text": "<ipython-input-11-19a1f71a56a2>:8: UserWarning: FixedFormatter should only be used together with FixedLocator\n  ax.set_xticklabels([''] + labels, fontsize=16)\n<ipython-input-11-19a1f71a56a2>:9: UserWarning: FixedFormatter should only be used together with FixedLocator\n  ax.set_yticklabels([''] + labels, fontsize=16)\n",
     "output_type": "stream"
    },
    {
     "data": {
      "text/plain": "<Figure size 432x288 with 2 Axes>",
      "image/png": "[encoded data removed]"
     },
     "metadata": {
      "needs_background": "light",
      "image/png": {
       "width": 315,
       "height": 341
      }
     },
     "output_type": "display_data"
    },
    {
     "data": {
      "text/plain": "<Figure size 432x288 with 2 Axes>",
      "image/png": "[encoded data removed]"
     },
     "metadata": {
      "needs_background": "light",
      "image/png": {
       "width": 318,
       "height": 341
      }
     },
     "output_type": "display_data"
    }
   ],
   "execution_count": null
  },
  {
   "cell_type": "markdown",
   "source": "You can even make a confusion matrix for a multi-class problem! All we need to do is increase the number of squares, since there are more ways that a prediction can be right or wrong. Consider this example, predicting types of animals.",
   "metadata": {
    "colab_type": "text",
    "id": "hczAcaUe4YP6",
    "cell_id": "00030-33bbc0b4-0d77-4d73-b387-2dd0a107ebd7",
    "deepnote_cell_type": "markdown",
    "deepnote_cell_height": 119.59375
   }
  },
  {
   "cell_type": "code",
   "metadata": {
    "colab_type": "code",
    "id": "w2f3hsH04YiW",
    "colab": {},
    "cell_id": "00031-9d99ac93-6fab-4145-838e-b79d77c4dea2",
    "deepnote_to_be_reexecuted": false,
    "source_hash": "303eddc4",
    "execution_start": 1657729310224,
    "execution_millis": 601,
    "deepnote_cell_type": "code",
    "deepnote_cell_height": 675.28125,
    "deepnote_output_heights": [
     null,
     343
    ]
   },
   "source": "# This series represents the true data\ny2=pd.Series(['dog', 'cat', 'dog', 'dog', 'dog', 'cat', 'cat', 'cat', 'dog', 'cat', 'dog', 'frog', 'dog', 'dog', 'cat', 'frog'])\n# This series represents a set of predictions\ny2pred=pd.Series(['dog', 'cat', 'dog', 'dog', 'cat', 'frog', 'cat', 'cat', 'dog', 'cat', 'dog', 'frog', 'frog', 'dog', 'cat', 'frog'])\n\nanimal_labels=['cat','dog','frog']\ncm = metrics.confusion_matrix(y2,y2pred)\nplot_cmatrix(cm,animal_labels)",
   "outputs": [
    {
     "name": "stderr",
     "text": "<ipython-input-11-19a1f71a56a2>:8: UserWarning: FixedFormatter should only be used together with FixedLocator\n  ax.set_xticklabels([''] + labels, fontsize=16)\n<ipython-input-11-19a1f71a56a2>:9: UserWarning: FixedFormatter should only be used together with FixedLocator\n  ax.set_yticklabels([''] + labels, fontsize=16)\n",
     "output_type": "stream"
    },
    {
     "data": {
      "text/plain": "<Figure size 432x288 with 2 Axes>",
      "image/png": "[encoded data removed]"
     },
     "metadata": {
      "needs_background": "light",
      "image/png": {
       "width": 330,
       "height": 341
      }
     },
     "output_type": "display_data"
    }
   ],
   "execution_count": null
  },
  {
   "cell_type": "markdown",
   "source": "There are several useful metrics that are derived from the confusion matrix:\n* sensitivity, recall, hit rate, or **true positive rate (TPR)** : $ \\mathrm {TPR} ={\\frac {\\mathrm {TP} }{P}}={\\frac {\\mathrm {TP} }{\\mathrm {TP} +\\mathrm {FN} }}$\n \n* precision or **positive predictive value (PPV)** : $ \\mathrm {PPV} ={\\frac {\\mathrm {TP} }{\\mathrm {TP} +\\mathrm {FP} }}$\n\n* specificity or **true negative rate (TNR)** : $\\mathrm {TNR} ={\\frac {\\mathrm {TN} }{N}}={\\frac {\\mathrm {TN} }{\\mathrm {TN} +\\mathrm {FP} }}$\n\n* miss rate or **false negative rate (FNR)** : $ \\mathrm {FNR} ={\\frac {\\mathrm {FN} }{P}}={\\frac {\\mathrm {FN} }{\\mathrm {FN} +\\mathrm {TP} }}=1-\\mathrm {TPR}$\n\n* fall-out or **false positive rate (FPR)** : $\\mathrm {FPR} ={\\frac {\\mathrm {FP} }{N}}={\\frac {\\mathrm {FP} }{\\mathrm {FP} +\\mathrm {TN} }}=1-\\mathrm {TNR} $\n\n* **accuracy (ACC)** : $\\mathrm {ACC} ={\\frac {\\mathrm {TP} +\\mathrm {TN} }{P+N}}={\\frac {\\mathrm {TP} +\\mathrm {TN} }{\\mathrm {TP} +\\mathrm {TN} +\\mathrm {FP} +\\mathrm {FN} }}$",
   "metadata": {
    "colab_type": "text",
    "id": "1Fkg_EdKahkl",
    "cell_id": "00032-2c86c37e-d43d-451b-bea9-4d4d7b33578d",
    "deepnote_cell_type": "markdown",
    "deepnote_cell_height": 321.953125
   }
  },
  {
   "cell_type": "markdown",
   "source": "## F1 score",
   "metadata": {
    "id": "V6lQJ3pmtlIP",
    "colab_type": "text",
    "cell_id": "00033-3212326b-0383-46ee-93a7-9b57d5d7a9d8",
    "deepnote_cell_type": "markdown",
    "deepnote_cell_height": 70
   }
  },
  {
   "cell_type": "markdown",
   "source": "The **F1 score** is the harmonic mean of precision and recall. The best possible F1 score would be 1, and worst would be 0. The relative contribution of precision and recall to the F1 score are equal. The formula for the F1 score is:\n * F1 score: $F_{1}=2\\cdot {\\frac {\\mathrm {PPV} \\cdot \\mathrm {TPR} }{\\mathrm {PPV} +\\mathrm {TPR} }}={\\frac {2\\mathrm {TP} }{2\\mathrm {TP} +\\mathrm {FP} +\\mathrm {FN} }}$",
   "metadata": {
    "id": "rQJkKrtktJV3",
    "colab_type": "text",
    "cell_id": "00034-33ff78ba-f4b3-46e8-a449-a1600182a765",
    "owner_user_id": "8bd18735-5a03-4dbc-84b8-25116b5f1aed",
    "deepnote_cell_type": "markdown",
    "deepnote_cell_height": 170.421875
   }
  },
  {
   "cell_type": "markdown",
   "source": "Let's calculate the precision, recall, and F1 values for the model we created earlier.",
   "metadata": {
    "id": "kgZG70Ak9onY",
    "colab_type": "text",
    "cell_id": "00035-420f4cdf-eec5-4b63-af01-e320b8bd455d",
    "deepnote_cell_type": "markdown",
    "deepnote_cell_height": 74.796875
   }
  },
  {
   "cell_type": "code",
   "metadata": {
    "colab_type": "code",
    "id": "iLRgnLA11eT-",
    "colab": {},
    "cell_id": "00036-2e23ad83-916b-491e-a956-380673105595",
    "deepnote_to_be_reexecuted": true,
    "source_hash": "8060b9fe",
    "execution_start": 1625523128730,
    "execution_millis": 14,
    "deepnote_cell_type": "code",
    "deepnote_cell_height": 187.078125
   },
   "source": "print('Precision: {:01.3f}'.format(metrics.precision_score(y_val,y_val_predict)))\nprint('Recall:    {:01.3f}'.format(metrics.accuracy_score(y_val,y_val_predict)))\nprint('F1 score:  {:01.3f}'.format(metrics.f1_score(y_val,y_val_predict)))",
   "outputs": [
    {
     "name": "stdout",
     "text": "Precision: 0.680\nRecall:    0.778\nF1 score:  0.708\n",
     "output_type": "stream"
    }
   ],
   "execution_count": null
  },
  {
   "cell_type": "markdown",
   "source": "## Outputting Probabilities ",
   "metadata": {
    "colab_type": "text",
    "id": "fY2Bf6446CT8",
    "cell_id": "00037-9617df54-9a84-4d2f-8289-103dc2a45851",
    "deepnote_cell_type": "markdown",
    "deepnote_cell_height": 70
   }
  },
  {
   "cell_type": "markdown",
   "source": "Up to now, we've simply been evaluating our model's ability to predict the correct class. But in most practical cases, we will want a model to output a *probability* or *certainty* rather than class labels. Fortunately, the sklearn model we created can already calculate probabilities for us. Let's consider the classification probabilities for a single entry.",
   "metadata": {
    "id": "XPu3EF5lXEOW",
    "colab_type": "text",
    "cell_id": "00038-0dd36f90-5384-44ab-a89b-704cf7619f44",
    "deepnote_cell_type": "markdown",
    "deepnote_cell_height": 164.390625
   }
  },
  {
   "cell_type": "code",
   "metadata": {
    "colab_type": "code",
    "id": "nzlcegvR1a35",
    "colab": {},
    "cell_id": "00039-a4f24212-29e7-449f-ae94-4295e8748cac",
    "deepnote_to_be_reexecuted": true,
    "source_hash": "bde4f9b0",
    "execution_start": 1625523130051,
    "execution_millis": 12,
    "deepnote_cell_type": "code",
    "deepnote_cell_height": 298.46875
   },
   "source": "# Predict class label probabilities\nlabels = [0,1]\ny_val_prob = model.predict_proba(X_val,labels)\n\n# Output predicted and true values for the first validation point\nprint('Probabilities:\\n',y_val_prob[0])\nprint('\\nTrue Value:\\n',y_val.values[0])",
   "outputs": [
    {
     "name": "stdout",
     "text": "Probabilities:\n [0.21917808 0.78082192]\n\nTrue Value:\n 1\n",
     "output_type": "stream"
    }
   ],
   "execution_count": null
  },
  {
   "cell_type": "markdown",
   "source": "Notice that the decision tree predicts that there is a ~78% probability that this entry belongs to class label 1. This doesn't necessarily mean we *have* to label the entry as class 1. For example, we may decide to say that 90% confidence is required for an entry to be assigned class 1, otherwise it belongs to class 0. The predicted class will depend on where we threshold our decision boundary.\n\nChoosing a threshold is not always as straighforward as choosing the label with the greatest probability. If we know a data set to be biased, or if there is a greater penalty for either false positives or false negatives, it can often be desirable to evaluate the model over a range of thresholds. This is where the **Receiver Operating Characteristic (ROC) curve** comes in!",
   "metadata": {
    "colab_type": "text",
    "id": "-0_TqOn0Bh53",
    "cell_id": "00040-799aa0e1-1e30-4e5b-b704-7ee40871bc52",
    "deepnote_cell_type": "markdown",
    "deepnote_cell_height": 335.171875
   }
  },
  {
   "cell_type": "markdown",
   "source": "### ROC Curves and AUC",
   "metadata": {
    "id": "tIayB7VAkI9T",
    "colab_type": "text",
    "cell_id": "00041-287b9745-fb8d-447c-845f-b461442219d4",
    "deepnote_cell_type": "markdown",
    "deepnote_cell_height": 62
   }
  },
  {
   "cell_type": "markdown",
   "source": "The **Receiver Operating Characteristic curve**, or **ROC curve**, is a plot that illustrates the diagnostic ability of a binary classifier system as its discrimination threshold is varied. That is to say, it shows how good the classifier is at different thresholds. It is created by plotting the true positive rate (TPR) against the false positive rate (FPR) at various threshold settings.",
   "metadata": {
    "id": "peOVwo3QkHyO",
    "colab_type": "text",
    "cell_id": "00042-6b88c73a-09f5-4260-a0e6-697127ef1b80",
    "deepnote_cell_type": "markdown",
    "deepnote_cell_height": 164.390625
   }
  },
  {
   "cell_type": "markdown",
   "source": "Often, the **area under the (ROC) curve,** or **AUC**, is used as a robust and descriptive metric of a classification model's performance. \n>An AUC of 1 is \"perfect,\" and an AUC of .5 means that the classifier is no better than random.\n\nTo describe what the AUC means, consider that a model's prediction of the chance for an entry to be in a class to be that entry's \"score.\" Then, the AUC is the probability that a randomly chosen entry that truly is in that class will have a higher \"score\" than a random entry that is not in that class.",
   "metadata": {
    "id": "fxWpfsvFkw7A",
    "colab_type": "text",
    "cell_id": "00043-66bd4ee3-d1af-4973-b923-9019d2010b17",
    "deepnote_cell_type": "markdown",
    "deepnote_cell_height": 281.984375
   }
  },
  {
   "cell_type": "code",
   "metadata": {
    "colab_type": "code",
    "id": "1oLYVkqEyWIr",
    "colab": {},
    "cell_id": "00044-cda3d6af-ba3a-4321-b600-7ad72724a9d1",
    "deepnote_to_be_reexecuted": true,
    "source_hash": "1f6ff1d8",
    "execution_start": 1625523133010,
    "execution_millis": 0,
    "deepnote_cell_type": "code",
    "deepnote_cell_height": 153
   },
   "source": "# Calculate the FPR and TPR at varying thresholds (assume label 1 is the \"postive\" class)\nfpr, tpr, thresholds = metrics.roc_curve(y_val, y_val_prob[:,1])\n\n# Calculate the area under the ROC curve\nroc_auc = metrics.auc(fpr, tpr)",
   "outputs": [],
   "execution_count": null
  },
  {
   "cell_type": "code",
   "metadata": {
    "colab_type": "code",
    "id": "anbcgur8ypbj",
    "colab": {},
    "cell_id": "00045-37dac86a-2e57-40c5-91c4-5ee6f532a352",
    "deepnote_to_be_reexecuted": true,
    "source_hash": "e0549606",
    "execution_start": 1625523133368,
    "execution_millis": 219,
    "deepnote_cell_type": "code",
    "deepnote_cell_height": 648.953125,
    "deepnote_output_heights": [
     335.953125
    ]
   },
   "source": "# Plot the ROC curve\nplt.figure(figsize=(6,6))\nlw = 2\nplt.plot(fpr, tpr, color='darkorange',\n         lw=lw, label='ROC curve (area = %0.2f)' % roc_auc)\nplt.plot([0, 1], [0, 1], color='navy', lw=lw, linestyle='--')\nplt.xlim([0.0, 1.0])\nplt.ylim([0.0, 1.0])\nplt.xlabel('False Positive Rate')\nplt.ylabel('True Positive Rate')\nplt.title('Receiver operating characteristic')\nplt.legend(loc=\"lower right\")\nplt.show()",
   "outputs": [
    {
     "data": {
      "text/plain": "<Figure size 432x432 with 1 Axes>",
      "image/png": "[encoded data removed]"
     },
     "metadata": {
      "needs_background": "light",
      "image/png": {
       "width": 394,
       "height": 387
      }
     },
     "output_type": "display_data"
    }
   ],
   "execution_count": null
  },
  {
   "cell_type": "markdown",
   "source": "## Next Steps\n\nThere is no separate exercise notebook for this section, but here are a few things to do on your own:\n* Perform the same analysis above using [k-fold cross validation](http://scikit-learn.org/stable/modules/generated/sklearn.model_selection.KFold.html)\n* Choose a \"good\" threshold for the decision tree created above (according to some metric, e.g., minimizing False Positives)\n* Evaluate the TEST data using the model at your chosen threshold -- how does the classifier perform?\n\n*Note: This tutorial is derived from Data School's Machine Learning with scikit-learn tutorial.*",
   "metadata": {
    "id": "zjn5oEwODYoU",
    "colab_type": "text",
    "cell_id": "00046-a8c12d26-7071-46f4-b0b1-ad00b2855635",
    "deepnote_cell_type": "markdown",
    "deepnote_cell_height": 321.578125
   }
  },
  {
   "cell_type": "markdown",
   "source": "<a style='text-decoration:none;line-height:16px;display:flex;color:#5B5B62;padding:10px;justify-content:end;' href='https://deepnote.com?utm_source=created-in-deepnote-cell&projectId=26f50753-0d12-4093-845a-7bba6b33ce3f' target=\"_blank\">\n<img alt='Created in deepnote.com' style='display:inline;max-height:16px;margin:0px;margin-right:7.5px;' src='data:image/svg+xml;base64,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' > </img>\nCreated in <span style='font-weight:600;margin-left:4px;'>Deepnote</span></a>",
   "metadata": {
    "tags": [],
    "created_in_deepnote_cell": true,
    "deepnote_cell_type": "markdown"
   }
  }
 ],
 "nbformat": 4,
 "nbformat_minor": 0,
 "metadata": {
  "colab": {
   "name": "ModelEvaluation_Tutorial",
   "provenance": [],
   "collapsed_sections": []
  },
  "kernelspec": {
   "display_name": "Python 3",
   "language": "python",
   "name": "python3"
  },
  "language_info": {
   "codemirror_mode": {
    "name": "ipython",
    "version": 3
   },
   "file_extension": ".py",
   "mimetype": "text/x-python",
   "name": "python",
   "nbconvert_exporter": "python",
   "pygments_lexer": "ipython3",
   "version": "3.7.3"
  },
  "deepnote_notebook_id": "8f9b33fb-970c-4e03-b85f-5440f841c05d",
  "deepnote": {},
  "deepnote_execution_queue": []
 }
}